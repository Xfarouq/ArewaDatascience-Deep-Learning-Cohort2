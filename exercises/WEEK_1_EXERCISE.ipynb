{
  "nbformat": 4,
  "nbformat_minor": 0,
  "metadata": {
    "colab": {
      "provenance": []
    },
    "kernelspec": {
      "name": "python3",
      "display_name": "Python 3"
    },
    "language_info": {
      "name": "python"
    },
    "accelerator": "GPU"
  },
  "cells": [
    {
      "cell_type": "markdown",
      "source": [
        "# Arewa Data Science Academy\n",
        "## Deep Learning Cohort2.0\n",
        "## Name: Umar Lawan Sani\n",
        "### Email: umarfarouq447@gmail.com\n",
        "### Title: Week 1 Solution\n",
        "## Exercises Solution"
      ],
      "metadata": {
        "id": "CR6VoEVcybIq"
      }
    },
    {
      "cell_type": "markdown",
      "source": [
        "# 00. PyTorch Fundamentals Exercises\n",
        "### 1. Documentation reading\n",
        "A big part of deep learning (and learning to code in general) is getting familiar with the documentation of a certain framework you're using. We'll be using the PyTorch documentation a lot throughout the rest of this course. So I'd recommend spending 10-minutes reading the following (it's okay if you don't get some things for now, the focus is not yet full understanding, it's awareness):\n",
        "\n",
        "- The documentation on torch.Tensor.\n",
        "- The documentation on torch.cuda."
      ],
      "metadata": {
        "id": "KZpk5EKOms7_"
      }
    },
    {
      "cell_type": "code",
      "source": [
        "# No code solution (reading)"
      ],
      "metadata": {
        "id": "mHI9cb2pnIVo"
      },
      "execution_count": null,
      "outputs": []
    },
    {
      "cell_type": "markdown",
      "source": [
        "### 2. Create a random tensor with shape `(7, 7)`.\n"
      ],
      "metadata": {
        "id": "__iXqqz-ioUJ"
      }
    },
    {
      "cell_type": "code",
      "source": [
        "# Import torch\n",
        "import torch\n",
        "# Create random tensor\n",
        "random_tensor = torch.rand((7, 7))\n",
        "random_tensor\n"
      ],
      "metadata": {
        "id": "6pUq9Dc8i2L7",
        "colab": {
          "base_uri": "https://localhost:8080/"
        },
        "outputId": "ec7b5328-6236-4dd5-d9ce-72cdba14fa0c"
      },
      "execution_count": null,
      "outputs": [
        {
          "output_type": "execute_result",
          "data": {
            "text/plain": [
              "tensor([[0.0432, 0.8640, 0.4119, 0.5222, 0.9340, 0.2950, 0.8172],\n",
              "        [0.9627, 0.3892, 0.1071, 0.4386, 0.4793, 0.0640, 0.1133],\n",
              "        [0.7022, 0.6795, 0.8385, 0.1983, 0.3517, 0.6646, 0.7673],\n",
              "        [0.5377, 0.4168, 0.3901, 0.9543, 0.8711, 0.5911, 0.6510],\n",
              "        [0.5572, 0.2537, 0.9117, 0.3663, 0.4465, 0.7055, 0.5340],\n",
              "        [0.7242, 0.9227, 0.0781, 0.3131, 0.0358, 0.5121, 0.0664],\n",
              "        [0.5892, 0.6821, 0.9527, 0.7155, 0.4113, 0.0539, 0.0399]])"
            ]
          },
          "metadata": {},
          "execution_count": 1
        }
      ]
    },
    {
      "cell_type": "markdown",
      "source": [
        "### 3. Perform a matrix multiplication on the tensor from 2 with another random tensor with shape `(1, 7)` (hint: you may have to transpose the second tensor)."
      ],
      "metadata": {
        "id": "9-XxvRLfiqkR"
      }
    },
    {
      "cell_type": "code",
      "source": [
        "# Create another random tensor\n",
        "random_tensor_1 = torch.rand((1, 7))\n",
        "\n",
        "random_tensor_1_transposed = random_tensor_1.T\n",
        "\n",
        "# Perform matrix multiplication\n",
        "result = torch.matmul(random_tensor, random_tensor_1_transposed)\n",
        "result\n"
      ],
      "metadata": {
        "id": "NcLqR0Sbi_vT",
        "colab": {
          "base_uri": "https://localhost:8080/"
        },
        "outputId": "28bb5b01-8961-4e97-ab10-d937e876b50b"
      },
      "execution_count": null,
      "outputs": [
        {
          "output_type": "execute_result",
          "data": {
            "text/plain": [
              "tensor([[1.7682],\n",
              "        [1.2676],\n",
              "        [2.4266],\n",
              "        [2.0114],\n",
              "        [2.1235],\n",
              "        [1.6236],\n",
              "        [2.1965]])"
            ]
          },
          "metadata": {},
          "execution_count": 2
        }
      ]
    },
    {
      "cell_type": "markdown",
      "source": [
        "### 4. Set the random seed to `0` and do 2 & 3 over again.\n",
        "\n",
        "The output should be:\n",
        "```\n",
        "(tensor([[1.8542],\n",
        "         [1.9611],\n",
        "         [2.2884],\n",
        "         [3.0481],\n",
        "         [1.7067],\n",
        "         [2.5290],\n",
        "         [1.7989]]), torch.Size([7, 1]))\n",
        "```"
      ],
      "metadata": {
        "id": "eiutdKUFiryU"
      }
    },
    {
      "cell_type": "code",
      "source": [
        "# Set manual seed\n",
        "torch.manual_seed(0)\n",
        "\n",
        "# Create two random tensors\n",
        "random_tensor = torch.rand((7, 7))\n",
        "\n",
        "random_tensor_1 = torch.rand((1, 7))\n",
        "\n",
        "random_tensor_1_transposed = random_tensor_1.T\n",
        "\n",
        "# Matrix multiply tensors\n",
        "result = torch.matmul(random_tensor, random_tensor_1_transposed)\n",
        "\n",
        "print(result, result.shape)\n"
      ],
      "metadata": {
        "id": "D-lOWI_1jRMm",
        "colab": {
          "base_uri": "https://localhost:8080/"
        },
        "outputId": "a63a9fa8-4df8-44e8-820f-023be5a8b37b"
      },
      "execution_count": null,
      "outputs": [
        {
          "output_type": "stream",
          "name": "stdout",
          "text": [
            "tensor([[1.8542],\n",
            "        [1.9611],\n",
            "        [2.2884],\n",
            "        [3.0481],\n",
            "        [1.7067],\n",
            "        [2.5290],\n",
            "        [1.7989]]) torch.Size([7, 1])\n"
          ]
        }
      ]
    },
    {
      "cell_type": "markdown",
      "source": [
        "### 5. Speaking of random seeds, we saw how to set it with `torch.manual_seed()` but is there a GPU equivalent? (hint: you'll need to look into the documentation for `torch.cuda` for this one)\n",
        "  * If there is, set the GPU random seed to `1234`."
      ],
      "metadata": {
        "id": "ezY6ks9Cis37"
      }
    },
    {
      "cell_type": "code",
      "source": [
        "# Set random seed on the GPU\n",
        "torch.cuda.manual_seed(1234)\n"
      ],
      "metadata": {
        "id": "_LKWcfSTjp00"
      },
      "execution_count": null,
      "outputs": []
    },
    {
      "cell_type": "markdown",
      "source": [
        "\n",
        "### 6. Create two random tensors of shape `(2, 3)` and send them both to the GPU (you'll need access to a GPU for this). Set `torch.manual_seed(1234)` when creating the tensors (this doesn't have to be the GPU random seed). The output should be something like:\n",
        "\n",
        "```\n",
        "Device: cuda\n",
        "(tensor([[0.0290, 0.4019, 0.2598],\n",
        "         [0.3666, 0.0583, 0.7006]], device='cuda:0'),\n",
        " tensor([[0.0518, 0.4681, 0.6738],\n",
        "         [0.3315, 0.7837, 0.5631]], device='cuda:0'))\n",
        "```"
      ],
      "metadata": {
        "id": "Ir9qSaj6it4n"
      }
    },
    {
      "cell_type": "code",
      "source": [
        "# Set random seed\n",
        "torch.manual_seed(1234)\n",
        "\n",
        "# Check for access to GPU\n",
        "device = torch.device(\"cuda\" if torch.cuda.is_available() else \"cpu\")\n",
        "\n",
        "# Create two random tensors on GPU\n",
        "tensor_a = torch.rand((2, 3))\n",
        "tensor_b = torch.rand((2, 3))\n",
        "\n",
        "tensor_a_gpu = tensor_a.to(device)\n",
        "tensor_b_gpu = tensor_b.to(device)\n",
        "\n",
        "# Display the tensors and their device\n",
        "print( tensor_a_gpu, tensor_a_gpu.device)\n",
        "print( tensor_b_gpu, tensor_b_gpu.device)\n"
      ],
      "metadata": {
        "id": "azXExiFZj5nm",
        "colab": {
          "base_uri": "https://localhost:8080/"
        },
        "outputId": "2b5351b3-3469-426c-b8ce-7015e4c015af"
      },
      "execution_count": 8,
      "outputs": [
        {
          "output_type": "stream",
          "name": "stdout",
          "text": [
            "tensor([[0.0290, 0.4019, 0.2598],\n",
            "        [0.3666, 0.0583, 0.7006]], device='cuda:0') cuda:0\n",
            "tensor([[0.0518, 0.4681, 0.6738],\n",
            "        [0.3315, 0.7837, 0.5631]], device='cuda:0') cuda:0\n"
          ]
        }
      ]
    },
    {
      "cell_type": "markdown",
      "source": [
        "\n",
        "### 7. Perform a matrix multiplication on the tensors you created in 6 (again, you may have to adjust the shapes of one of the tensors).\n",
        "\n",
        "The output should look like:\n",
        "```\n",
        "(tensor([[0.3647, 0.4709],\n",
        "         [0.5184, 0.5617]], device='cuda:0'), torch.Size([2, 2]))\n",
        "```"
      ],
      "metadata": {
        "id": "5TlAxeiSiu1y"
      }
    },
    {
      "cell_type": "code",
      "source": [
        "# Perform matmul on tensor_A and tensor_B\n",
        "result_gpu = torch.matmul(tensor_a_gpu, tensor_b_gpu.T)\n",
        "\n",
        "# Display the result\n",
        "print(\"Matrix Multiplication Result (on GPU):\", result_gpu)"
      ],
      "metadata": {
        "id": "fAeG7ox0lHEO",
        "colab": {
          "base_uri": "https://localhost:8080/"
        },
        "outputId": "3f1713e5-f19f-454a-b4e0-d5433a80e209"
      },
      "execution_count": 9,
      "outputs": [
        {
          "output_type": "stream",
          "name": "stdout",
          "text": [
            "Matrix Multiplication Result (on GPU): tensor([[0.3647, 0.4709],\n",
            "        [0.5184, 0.5617]], device='cuda:0')\n"
          ]
        }
      ]
    },
    {
      "cell_type": "markdown",
      "source": [
        "### 8. Find the maximum and minimum values of the output of 7."
      ],
      "metadata": {
        "id": "G7qfa5CSivwg"
      }
    },
    {
      "cell_type": "code",
      "source": [
        "# Find max\n",
        "max = torch.max(result_gpu)\n",
        "\n",
        "# Find min\n",
        "min = torch.min(result_gpu)\n",
        "\n",
        "print(max, min)\n"
      ],
      "metadata": {
        "id": "Fu8_3mZpllOd",
        "colab": {
          "base_uri": "https://localhost:8080/"
        },
        "outputId": "5bb6c035-6881-465f-b8af-a5089ae234a3"
      },
      "execution_count": 10,
      "outputs": [
        {
          "output_type": "stream",
          "name": "stdout",
          "text": [
            "tensor(0.5617, device='cuda:0') tensor(0.3647, device='cuda:0')\n"
          ]
        }
      ]
    },
    {
      "cell_type": "markdown",
      "source": [
        "### 9. Find the maximum and minimum index values of the output of 7."
      ],
      "metadata": {
        "id": "wrTj5FgNiw47"
      }
    },
    {
      "cell_type": "code",
      "source": [
        "# Find arg max\n",
        "max_index = torch.argmax(result_gpu)\n",
        "\n",
        "# Find arg min\n",
        "min_index = torch.argmin(result_gpu)\n",
        "\n",
        "print(max_index.item(), min_index.item())\n"
      ],
      "metadata": {
        "id": "CCEKt4K2lsfQ",
        "colab": {
          "base_uri": "https://localhost:8080/"
        },
        "outputId": "20c2c703-7db0-4c0f-af42-ef6dd93f49a3"
      },
      "execution_count": 12,
      "outputs": [
        {
          "output_type": "stream",
          "name": "stdout",
          "text": [
            "3 0\n"
          ]
        }
      ]
    },
    {
      "cell_type": "markdown",
      "source": [
        "\n",
        "### 10. Make a random tensor with shape `(1, 1, 1, 10)` and then create a new tensor with all the `1` dimensions removed to be left with a tensor of shape `(10)`. Set the seed to `7` when you create it and print out the first tensor and it's shape as well as the second tensor and it's shape.\n",
        "\n",
        "The output should look like:\n",
        "\n",
        "```\n",
        "tensor([[[[0.5349, 0.1988, 0.6592, 0.6569, 0.2328, 0.4251, 0.2071, 0.6297,\n",
        "           0.3653, 0.8513]]]]) torch.Size([1, 1, 1, 10])\n",
        "tensor([0.5349, 0.1988, 0.6592, 0.6569, 0.2328, 0.4251, 0.2071, 0.6297, 0.3653,\n",
        "        0.8513]) torch.Size([10])\n",
        "```"
      ],
      "metadata": {
        "id": "hmeybz4uixy7"
      }
    },
    {
      "cell_type": "code",
      "source": [
        "# Set seed\n",
        "torch.manual_seed(7)\n",
        "\n",
        "# Create random tensor\n",
        "tensor_4d = torch.rand((1, 1, 1, 10))\n",
        "\n",
        "\n",
        "# Remove single dimensions\n",
        "tensor_1d = tensor_4d.squeeze()\n",
        "\n",
        "\n",
        "# Print out tensors and their shapes\n",
        "print(tensor_4d, tensor_4d.shape)\n",
        "print(tensor_1d, tensor_1d.shape)\n"
      ],
      "metadata": {
        "id": "TQ9zbRzVl1jV",
        "colab": {
          "base_uri": "https://localhost:8080/"
        },
        "outputId": "960195c4-16e2-43df-f985-8a9f7f17d15e"
      },
      "execution_count": 13,
      "outputs": [
        {
          "output_type": "stream",
          "name": "stdout",
          "text": [
            "tensor([[[[0.5349, 0.1988, 0.6592, 0.6569, 0.2328, 0.4251, 0.2071, 0.6297,\n",
            "           0.3653, 0.8513]]]]) torch.Size([1, 1, 1, 10])\n",
            "tensor([0.5349, 0.1988, 0.6592, 0.6569, 0.2328, 0.4251, 0.2071, 0.6297, 0.3653,\n",
            "        0.8513]) torch.Size([10])\n"
          ]
        }
      ]
    },
    {
      "cell_type": "code",
      "source": [],
      "metadata": {
        "id": "ZSs6hWGo3wxO"
      },
      "execution_count": null,
      "outputs": []
    }
  ]
}